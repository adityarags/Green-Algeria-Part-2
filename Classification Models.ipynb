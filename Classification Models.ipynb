{
  "nbformat": 4,
  "nbformat_minor": 0,
  "metadata": {
    "colab": {
      "provenance": []
    },
    "kernelspec": {
      "name": "python3",
      "display_name": "Python 3"
    },
    "language_info": {
      "name": "python"
    }
  },
  "cells": [
    {
      "cell_type": "markdown",
      "source": [
        "# Importing Dependancies"
      ],
      "metadata": {
        "id": "sNC-BGmT6GHK"
      }
    },
    {
      "cell_type": "code",
      "execution_count": 1,
      "metadata": {
        "id": "Yx5i6TYaLuCw"
      },
      "outputs": [],
      "source": [
        "import pandas as pd \n",
        "import numpy as np\n",
        "import matplotlib.pyplot as plt\n",
        "import matplotlib.colors as colors \n",
        "import pickle\n",
        "import seaborn as sns\n",
        "\n",
        "\n",
        "from sklearn.preprocessing import scale\n",
        "from sklearn.svm import SVC \n",
        "from sklearn.metrics import confusion_matrix \n",
        "from sklearn.decomposition import PCA\n",
        "from sklearn.model_selection import train_test_split\n",
        "from sklearn.linear_model import SGDClassifier\n",
        "from sklearn.neighbors import KNeighborsClassifier\n",
        "from sklearn.pipeline import Pipeline\n",
        "from sklearn.model_selection import GridSearchCV\n",
        "from sklearn.preprocessing import StandardScaler\n",
        "from sklearn.metrics import plot_confusion_matrix\n",
        "from sklearn.ensemble import RandomForestClassifier\n",
        "from sklearn.metrics import accuracy_score, confusion_matrix\n",
        "from sklearn.tree import DecisionTreeClassifier\n",
        "from sklearn.model_selection import cross_val_score\n",
        "from sklearn.metrics import ConfusionMatrixDisplay\n",
        "from sklearn.ensemble import AdaBoostClassifier\n"
      ]
    },
    {
      "cell_type": "code",
      "source": [
        "import warnings\n",
        "warnings.filterwarnings(\"ignore\")"
      ],
      "metadata": {
        "id": "rqpLFiYWYtc5"
      },
      "execution_count": 2,
      "outputs": []
    },
    {
      "cell_type": "markdown",
      "source": [
        "# Stochastic Gradient Descent Classifier"
      ],
      "metadata": {
        "id": "BvQnvLiAfRFu"
      }
    },
    {
      "cell_type": "code",
      "execution_count": 3,
      "metadata": {
        "id": "72bb6002"
      },
      "outputs": [],
      "source": [
        "with open (\"NITRRData.pkl\", \"rb\") as f:\n",
        "    data=pickle.load(f)"
      ]
    },
    {
      "cell_type": "code",
      "execution_count": 4,
      "metadata": {
        "id": "e6d3bf2a"
      },
      "outputs": [],
      "source": [
        "x = data[\"features\"]\n",
        "y = data[\"target\"]"
      ]
    },
    {
      "cell_type": "code",
      "execution_count": 5,
      "metadata": {
        "id": "cf0aee0c"
      },
      "outputs": [],
      "source": [
        "x = scale(x)\n",
        "xtrain, xtest, ytrain, ytest=train_test_split(x, y, test_size=0.3,random_state = 1)"
      ]
    },
    {
      "cell_type": "code",
      "execution_count": 6,
      "metadata": {
        "id": "fdb42f4d",
        "outputId": "7a4506c3-dde5-46c8-8df7-9732b007c7c6",
        "colab": {
          "base_uri": "https://localhost:8080/"
        }
      },
      "outputs": [
        {
          "output_type": "stream",
          "name": "stdout",
          "text": [
            "SGDClassifier(max_iter=100)\n"
          ]
        }
      ],
      "source": [
        "sgdc = SGDClassifier(max_iter=100, tol=0.001)\n",
        "print(sgdc)"
      ]
    },
    {
      "cell_type": "code",
      "execution_count": 7,
      "metadata": {
        "id": "cfe8f191",
        "outputId": "6dff7ab3-97d4-49d0-d069-ec029efae63c",
        "colab": {
          "base_uri": "https://localhost:8080/"
        }
      },
      "outputs": [
        {
          "output_type": "execute_result",
          "data": {
            "text/plain": [
              "SGDClassifier(max_iter=100)"
            ]
          },
          "metadata": {},
          "execution_count": 7
        }
      ],
      "source": [
        "sgdc.fit(xtrain, ytrain)"
      ]
    },
    {
      "cell_type": "code",
      "execution_count": 8,
      "metadata": {
        "id": "4597e662"
      },
      "outputs": [],
      "source": [
        "ypred = sgdc.predict(xtest)"
      ]
    },
    {
      "cell_type": "code",
      "execution_count": 9,
      "metadata": {
        "id": "e70a0375",
        "outputId": "6706cdd4-b1df-43a7-81b8-3c979abe77f2",
        "colab": {
          "base_uri": "https://localhost:8080/"
        }
      },
      "outputs": [
        {
          "output_type": "stream",
          "name": "stdout",
          "text": [
            "Accuracy: 0.8\n"
          ]
        }
      ],
      "source": [
        "print(\"Accuracy:\", accuracy_score(ytest, ypred))"
      ]
    },
    {
      "cell_type": "code",
      "execution_count": 10,
      "metadata": {
        "id": "311c7dbb",
        "outputId": "07350eec-d9b2-474f-c30e-2f08f9b1cbf4",
        "colab": {
          "base_uri": "https://localhost:8080/",
          "height": 296
        }
      },
      "outputs": [
        {
          "output_type": "execute_result",
          "data": {
            "text/plain": [
              "<sklearn.metrics._plot.confusion_matrix.ConfusionMatrixDisplay at 0x7f3cee67be90>"
            ]
          },
          "metadata": {},
          "execution_count": 10
        },
        {
          "output_type": "display_data",
          "data": {
            "text/plain": [
              "<Figure size 432x288 with 2 Axes>"
            ],
            "image/png": "[encoded data removed]"
          },
          "metadata": {
            "needs_background": "light"
          }
        }
      ],
      "source": [
        "plot_confusion_matrix(sgdc, xtest, ytest,display_labels=['Irrigation required','Irrigation not required'])"
      ]
    },
    {
      "cell_type": "markdown",
      "source": [
        "# Support Vector Machine"
      ],
      "metadata": {
        "id": "d6iA6OHfd2Xe"
      }
    },
    {
      "cell_type": "code",
      "source": [
        "with open('/content/NITRRData.pkl','rb') as d:\n",
        "    data = pickle.load(d)"
      ],
      "metadata": {
        "execution": {
          "iopub.status.busy": "2022-11-06T10:00:20.281064Z",
          "iopub.execute_input": "2022-11-06T10:00:20.281511Z",
          "iopub.status.idle": "2022-11-06T10:00:21.029331Z",
          "shell.execute_reply.started": "2022-11-06T10:00:20.281458Z",
          "shell.execute_reply": "2022-11-06T10:00:21.028209Z"
        },
        "trusted": true,
        "id": "HMEHGz6ja5px"
      },
      "execution_count": 11,
      "outputs": []
    },
    {
      "cell_type": "code",
      "source": [
        "feature_matrix = data['features']\n",
        "df=pd.DataFrame(feature_matrix)"
      ],
      "metadata": {
        "execution": {
          "iopub.status.busy": "2022-11-06T10:00:22.457519Z",
          "iopub.execute_input": "2022-11-06T10:00:22.457978Z",
          "iopub.status.idle": "2022-11-06T10:00:22.476903Z",
          "shell.execute_reply.started": "2022-11-06T10:00:22.457929Z",
          "shell.execute_reply": "2022-11-06T10:00:22.476041Z"
        },
        "trusted": true,
        "id": "7nJpYoPUa5p2"
      },
      "execution_count": 12,
      "outputs": []
    },
    {
      "cell_type": "code",
      "source": [
        "label_vector = data['target']\n",
        "df1 = pd.DataFrame(label_vector)\n",
        "target_df = df1"
      ],
      "metadata": {
        "execution": {
          "iopub.status.busy": "2022-11-06T10:00:23.836406Z",
          "iopub.execute_input": "2022-11-06T10:00:23.837131Z",
          "iopub.status.idle": "2022-11-06T10:00:23.852059Z",
          "shell.execute_reply.started": "2022-11-06T10:00:23.837089Z",
          "shell.execute_reply": "2022-11-06T10:00:23.850445Z"
        },
        "trusted": true,
        "id": "GjqpnNoKa5p5"
      },
      "execution_count": 13,
      "outputs": []
    },
    {
      "cell_type": "code",
      "source": [
        "data_df = pd.get_dummies(df,columns=['CropType'])\n",
        "\n",
        "data_df.head()"
      ],
      "metadata": {
        "execution": {
          "iopub.status.busy": "2022-11-06T10:00:25.658801Z",
          "iopub.execute_input": "2022-11-06T10:00:25.659212Z",
          "iopub.status.idle": "2022-11-06T10:00:25.679674Z",
          "shell.execute_reply.started": "2022-11-06T10:00:25.659179Z",
          "shell.execute_reply": "2022-11-06T10:00:25.678340Z"
        },
        "trusted": true,
        "id": "tppa-aiOa5p8",
        "outputId": "d9bfdfd6-2c47-4f44-8a1c-4c13150d91e5",
        "colab": {
          "base_uri": "https://localhost:8080/",
          "height": 250
        }
      },
      "execution_count": 14,
      "outputs": [
        {
          "output_type": "execute_result",
          "data": {
            "text/plain": [
              "    CropDays  SoilMoisture  Temperature  Humidity  CropType_1  CropType_2  \\\n",
              "63        16           230           28        71           1           0   \n",
              "93        74           600           23        15           1           0   \n",
              "92        70           990           24        19           1           0   \n",
              "91        66           700           25        17           1           0   \n",
              "90        65           660           23        15           1           0   \n",
              "\n",
              "    CropType_3  CropType_4  CropType_5  CropType_6  CropType_7  CropType_8  \\\n",
              "63           0           0           0           0           0           0   \n",
              "93           0           0           0           0           0           0   \n",
              "92           0           0           0           0           0           0   \n",
              "91           0           0           0           0           0           0   \n",
              "90           0           0           0           0           0           0   \n",
              "\n",
              "    CropType_9  \n",
              "63           0  \n",
              "93           0  \n",
              "92           0  \n",
              "91           0  \n",
              "90           0  "
            ],
            "text/html": [
              "\n",
              "  <div id=\"df-9f49d37d-3b85-44f4-8526-1127c9756994\">\n",
              "    <div class=\"colab-df-container\">\n",
              "      <div>\n",
              "<style scoped>\n",
              "    .dataframe tbody tr th:only-of-type {\n",
              "        vertical-align: middle;\n",
              "    }\n",
              "\n",
              "    .dataframe tbody tr th {\n",
              "        vertical-align: top;\n",
              "    }\n",
              "\n",
              "    .dataframe thead th {\n",
              "        text-align: right;\n",
              "    }\n",
              "</style>\n",
              "<table border=\"1\" class=\"dataframe\">\n",
              "  <thead>\n",
              "    <tr style=\"text-align: right;\">\n",
              "      <th></th>\n",
              "      <th>CropDays</th>\n",
              "      <th>SoilMoisture</th>\n",
              "      <th>Temperature</th>\n",
              "      <th>Humidity</th>\n",
              "      <th>CropType_1</th>\n",
              "      <th>CropType_2</th>\n",
              "      <th>CropType_3</th>\n",
              "      <th>CropType_4</th>\n",
              "      <th>CropType_5</th>\n",
              "      <th>CropType_6</th>\n",
              "      <th>CropType_7</th>\n",
              "      <th>CropType_8</th>\n",
              "      <th>CropType_9</th>\n",
              "    </tr>\n",
              "  </thead>\n",
              "  <tbody>\n",
              "    <tr>\n",
              "      <th>63</th>\n",
              "      <td>16</td>\n",
              "      <td>230</td>\n",
              "      <td>28</td>\n",
              "      <td>71</td>\n",
              "      <td>1</td>\n",
              "      <td>0</td>\n",
              "      <td>0</td>\n",
              "      <td>0</td>\n",
              "      <td>0</td>\n",
              "      <td>0</td>\n",
              "      <td>0</td>\n",
              "      <td>0</td>\n",
              "      <td>0</td>\n",
              "    </tr>\n",
              "    <tr>\n",
              "      <th>93</th>\n",
              "      <td>74</td>\n",
              "      <td>600</td>\n",
              "      <td>23</td>\n",
              "      <td>15</td>\n",
              "      <td>1</td>\n",
              "      <td>0</td>\n",
              "      <td>0</td>\n",
              "      <td>0</td>\n",
              "      <td>0</td>\n",
              "      <td>0</td>\n",
              "      <td>0</td>\n",
              "      <td>0</td>\n",
              "      <td>0</td>\n",
              "    </tr>\n",
              "    <tr>\n",
              "      <th>92</th>\n",
              "      <td>70</td>\n",
              "      <td>990</td>\n",
              "      <td>24</td>\n",
              "      <td>19</td>\n",
              "      <td>1</td>\n",
              "      <td>0</td>\n",
              "      <td>0</td>\n",
              "      <td>0</td>\n",
              "      <td>0</td>\n",
              "      <td>0</td>\n",
              "      <td>0</td>\n",
              "      <td>0</td>\n",
              "      <td>0</td>\n",
              "    </tr>\n",
              "    <tr>\n",
              "      <th>91</th>\n",
              "      <td>66</td>\n",
              "      <td>700</td>\n",
              "      <td>25</td>\n",
              "      <td>17</td>\n",
              "      <td>1</td>\n",
              "      <td>0</td>\n",
              "      <td>0</td>\n",
              "      <td>0</td>\n",
              "      <td>0</td>\n",
              "      <td>0</td>\n",
              "      <td>0</td>\n",
              "      <td>0</td>\n",
              "      <td>0</td>\n",
              "    </tr>\n",
              "    <tr>\n",
              "      <th>90</th>\n",
              "      <td>65</td>\n",
              "      <td>660</td>\n",
              "      <td>23</td>\n",
              "      <td>15</td>\n",
              "      <td>1</td>\n",
              "      <td>0</td>\n",
              "      <td>0</td>\n",
              "      <td>0</td>\n",
              "      <td>0</td>\n",
              "      <td>0</td>\n",
              "      <td>0</td>\n",
              "      <td>0</td>\n",
              "      <td>0</td>\n",
              "    </tr>\n",
              "  </tbody>\n",
              "</table>\n",
              "</div>\n",
              "      <button class=\"colab-df-convert\" onclick=\"convertToInteractive('df-9f49d37d-3b85-44f4-8526-1127c9756994')\"\n",
              "              title=\"Convert this dataframe to an interactive table.\"\n",
              "              style=\"display:none;\">\n",
              "        \n",
              "  <svg xmlns=\"http://www.w3.org/2000/svg\" height=\"24px\"viewBox=\"0 0 24 24\"\n",
              "       width=\"24px\">\n",
              "    <path d=\"M0 0h24v24H0V0z\" fill=\"none\"/>\n",
              "    <path d=\"M18.56 5.44l.94 2.06.94-2.06 2.06-.94-2.06-.94-.94-2.06-.94 2.06-2.06.94zm-11 1L8.5 8.5l.94-2.06 2.06-.94-2.06-.94L8.5 2.5l-.94 2.06-2.06.94zm10 10l.94 2.06.94-2.06 2.06-.94-2.06-.94-.94-2.06-.94 2.06-2.06.94z\"/><path d=\"M17.41 7.96l-1.37-1.37c-.4-.4-.92-.59-1.43-.59-.52 0-1.04.2-1.43.59L10.3 9.45l-7.72 7.72c-.78.78-.78 2.05 0 2.83L4 21.41c.39.39.9.59 1.41.59.51 0 1.02-.2 1.41-.59l7.78-7.78 2.81-2.81c.8-.78.8-2.07 0-2.86zM5.41 20L4 18.59l7.72-7.72 1.47 1.35L5.41 20z\"/>\n",
              "  </svg>\n",
              "      </button>\n",
              "      \n",
              "  <style>\n",
              "    .colab-df-container {\n",
              "      display:flex;\n",
              "      flex-wrap:wrap;\n",
              "      gap: 12px;\n",
              "    }\n",
              "\n",
              "    .colab-df-convert {\n",
              "      background-color: #E8F0FE;\n",
              "      border: none;\n",
              "      border-radius: 50%;\n",
              "      cursor: pointer;\n",
              "      display: none;\n",
              "      fill: #1967D2;\n",
              "      height: 32px;\n",
              "      padding: 0 0 0 0;\n",
              "      width: 32px;\n",
              "    }\n",
              "\n",
              "    .colab-df-convert:hover {\n",
              "      background-color: #E2EBFA;\n",
              "      box-shadow: 0px 1px 2px rgba(60, 64, 67, 0.3), 0px 1px 3px 1px rgba(60, 64, 67, 0.15);\n",
              "      fill: #174EA6;\n",
              "    }\n",
              "\n",
              "    [theme=dark] .colab-df-convert {\n",
              "      background-color: #3B4455;\n",
              "      fill: #D2E3FC;\n",
              "    }\n",
              "\n",
              "    [theme=dark] .colab-df-convert:hover {\n",
              "      background-color: #434B5C;\n",
              "      box-shadow: 0px 1px 3px 1px rgba(0, 0, 0, 0.15);\n",
              "      filter: drop-shadow(0px 1px 2px rgba(0, 0, 0, 0.3));\n",
              "      fill: #FFFFFF;\n",
              "    }\n",
              "  </style>\n",
              "\n",
              "      <script>\n",
              "        const buttonEl =\n",
              "          document.querySelector('#df-9f49d37d-3b85-44f4-8526-1127c9756994 button.colab-df-convert');\n",
              "        buttonEl.style.display =\n",
              "          google.colab.kernel.accessAllowed ? 'block' : 'none';\n",
              "\n",
              "        async function convertToInteractive(key) {\n",
              "          const element = document.querySelector('#df-9f49d37d-3b85-44f4-8526-1127c9756994');\n",
              "          const dataTable =\n",
              "            await google.colab.kernel.invokeFunction('convertToInteractive',\n",
              "                                                     [key], {});\n",
              "          if (!dataTable) return;\n",
              "\n",
              "          const docLinkHtml = 'Like what you see? Visit the ' +\n",
              "            '<a target=\"_blank\" href=https://colab.research.google.com/notebooks/data_table.ipynb>data table notebook</a>'\n",
              "            + ' to learn more about interactive tables.';\n",
              "          element.innerHTML = '';\n",
              "          dataTable['output_type'] = 'display_data';\n",
              "          await google.colab.output.renderOutput(dataTable, element);\n",
              "          const docLink = document.createElement('div');\n",
              "          docLink.innerHTML = docLinkHtml;\n",
              "          element.appendChild(docLink);\n",
              "        }\n",
              "      </script>\n",
              "    </div>\n",
              "  </div>\n",
              "  "
            ]
          },
          "metadata": {},
          "execution_count": 14
        }
      ]
    },
    {
      "cell_type": "code",
      "source": [
        "X_train, X_test, y_train, y_test = train_test_split(data_df,target_df,random_state = 42)\n",
        "X_train_scaled = scale(X_train)\n",
        "X_test_scaled = scale(X_test)"
      ],
      "metadata": {
        "execution": {
          "iopub.status.busy": "2022-11-06T10:00:27.252614Z",
          "iopub.execute_input": "2022-11-06T10:00:27.253069Z",
          "iopub.status.idle": "2022-11-06T10:00:27.266673Z",
          "shell.execute_reply.started": "2022-11-06T10:00:27.253029Z",
          "shell.execute_reply": "2022-11-06T10:00:27.265538Z"
        },
        "trusted": true,
        "id": "aocCdyS9a5p-"
      },
      "execution_count": 15,
      "outputs": []
    },
    {
      "cell_type": "code",
      "source": [
        "svm = SVC(random_state = 1)\n",
        "svm.fit(X_train_scaled, y_train.values.ravel())"
      ],
      "metadata": {
        "execution": {
          "iopub.status.busy": "2022-11-06T10:00:27.987298Z",
          "iopub.execute_input": "2022-11-06T10:00:27.987706Z",
          "iopub.status.idle": "2022-11-06T10:00:28.007522Z",
          "shell.execute_reply.started": "2022-11-06T10:00:27.987672Z",
          "shell.execute_reply": "2022-11-06T10:00:28.006270Z"
        },
        "trusted": true,
        "id": "yhTfvzeoa5p_",
        "outputId": "453c9290-18db-4e08-cd95-ac359d8a0850",
        "colab": {
          "base_uri": "https://localhost:8080/"
        }
      },
      "execution_count": 16,
      "outputs": [
        {
          "output_type": "execute_result",
          "data": {
            "text/plain": [
              "SVC(random_state=1)"
            ]
          },
          "metadata": {},
          "execution_count": 16
        }
      ]
    },
    {
      "cell_type": "code",
      "source": [
        "plot_confusion_matrix(svm,\n",
        "                     X_test_scaled,\n",
        "                     y_test.values.ravel(),\n",
        "                     values_format= 'd',\n",
        "                     display_labels=['Need irrigation','Dosent need irrigation'])"
      ],
      "metadata": {
        "execution": {
          "iopub.status.busy": "2022-11-06T10:00:28.611148Z",
          "iopub.execute_input": "2022-11-06T10:00:28.611550Z",
          "iopub.status.idle": "2022-11-06T10:00:28.917347Z",
          "shell.execute_reply.started": "2022-11-06T10:00:28.611509Z",
          "shell.execute_reply": "2022-11-06T10:00:28.916208Z"
        },
        "trusted": true,
        "id": "NMFRp0dOa5qA",
        "outputId": "522335ee-8d44-46b2-9fb6-65b21e997ec4",
        "colab": {
          "base_uri": "https://localhost:8080/",
          "height": 296
        }
      },
      "execution_count": 17,
      "outputs": [
        {
          "output_type": "execute_result",
          "data": {
            "text/plain": [
              "<sklearn.metrics._plot.confusion_matrix.ConfusionMatrixDisplay at 0x7f3cd752c6d0>"
            ]
          },
          "metadata": {},
          "execution_count": 17
        },
        {
          "output_type": "display_data",
          "data": {
            "text/plain": [
              "<Figure size 432x288 with 2 Axes>"
            ],
            "image/png": "[encoded data removed]"
          },
          "metadata": {
            "needs_background": "light"
          }
        }
      ]
    },
    {
      "cell_type": "code",
      "source": [
        "param_grid = [\n",
        "    { 'C': [0.5, 1, 5, 10, 15, 100],\n",
        "    'gamma': ['scale', 1, 0.1, 0.01, 0.001, 0.0001],\n",
        "    'kernel': ['rbf']}\n",
        "]\n",
        "\n",
        "\n",
        "optimal_params = GridSearchCV(\n",
        "    SVC(),\n",
        "    param_grid,\n",
        "    cv = 10,\n",
        "    scoring = 'accuracy'\n",
        ")\n",
        "\n",
        "optimal_params.fit(X_train_scaled, y_train.values.ravel())\n",
        "print(optimal_params.best_params_)"
      ],
      "metadata": {
        "execution": {
          "iopub.status.busy": "2022-11-06T10:00:29.278131Z",
          "iopub.execute_input": "2022-11-06T10:00:29.279189Z",
          "iopub.status.idle": "2022-11-06T10:00:32.427994Z",
          "shell.execute_reply.started": "2022-11-06T10:00:29.279142Z",
          "shell.execute_reply": "2022-11-06T10:00:32.426443Z"
        },
        "trusted": true,
        "id": "bCZoND9ra5qB",
        "outputId": "22dee323-8bf8-488f-92c3-7871ca597083",
        "colab": {
          "base_uri": "https://localhost:8080/"
        }
      },
      "execution_count": 18,
      "outputs": [
        {
          "output_type": "stream",
          "name": "stdout",
          "text": [
            "{'C': 5, 'gamma': 0.1, 'kernel': 'rbf'}\n"
          ]
        }
      ]
    },
    {
      "cell_type": "code",
      "source": [
        "optimised_svm = SVC(random_state = 42, C=100 , gamma='scale')\n",
        "optimised_svm.fit(X_train_scaled, y_train.values.ravel())"
      ],
      "metadata": {
        "execution": {
          "iopub.status.busy": "2022-11-06T10:00:32.429988Z",
          "iopub.execute_input": "2022-11-06T10:00:32.430460Z",
          "iopub.status.idle": "2022-11-06T10:00:32.448770Z",
          "shell.execute_reply.started": "2022-11-06T10:00:32.430416Z",
          "shell.execute_reply": "2022-11-06T10:00:32.447561Z"
        },
        "trusted": true,
        "id": "40pYE2qoa5qC",
        "outputId": "951f665d-e8a5-470b-ed61-e7253b753bce",
        "colab": {
          "base_uri": "https://localhost:8080/"
        }
      },
      "execution_count": 19,
      "outputs": [
        {
          "output_type": "execute_result",
          "data": {
            "text/plain": [
              "SVC(C=100, random_state=42)"
            ]
          },
          "metadata": {},
          "execution_count": 19
        }
      ]
    },
    {
      "cell_type": "code",
      "source": [
        "plot_confusion_matrix(optimised_svm,\n",
        "                     X_test_scaled,\n",
        "                     y_test.values.ravel(),\n",
        "                     values_format= 'd',\n",
        "                     display_labels=['Need irrigation','Dosent need irrigation'])"
      ],
      "metadata": {
        "execution": {
          "iopub.status.busy": "2022-11-06T10:00:33.047578Z",
          "iopub.execute_input": "2022-11-06T10:00:33.048009Z",
          "iopub.status.idle": "2022-11-06T10:00:33.314812Z",
          "shell.execute_reply.started": "2022-11-06T10:00:33.047974Z",
          "shell.execute_reply": "2022-11-06T10:00:33.313720Z"
        },
        "trusted": true,
        "id": "U_xk-Xata5qD",
        "outputId": "239615ca-85de-49a2-8ea2-451d98308d9d",
        "colab": {
          "base_uri": "https://localhost:8080/",
          "height": 296
        }
      },
      "execution_count": 20,
      "outputs": [
        {
          "output_type": "execute_result",
          "data": {
            "text/plain": [
              "<sklearn.metrics._plot.confusion_matrix.ConfusionMatrixDisplay at 0x7f3cd6db0550>"
            ]
          },
          "metadata": {},
          "execution_count": 20
        },
        {
          "output_type": "display_data",
          "data": {
            "text/plain": [
              "<Figure size 432x288 with 2 Axes>"
            ],
            "image/png": "[encoded data removed]"
          },
          "metadata": {
            "needs_background": "light"
          }
        }
      ]
    },
    {
      "cell_type": "code",
      "source": [
        "y_pred = svm.predict(X_test)\n",
        "print(\"Accuracy Score of the model:\", accuracy_score(y_test, y_pred))"
      ],
      "metadata": {
        "colab": {
          "base_uri": "https://localhost:8080/"
        },
        "id": "OVkwo1TldhY9",
        "outputId": "539e15d7-8859-4521-c0e5-654fc02f15a5"
      },
      "execution_count": 21,
      "outputs": [
        {
          "output_type": "stream",
          "name": "stdout",
          "text": [
            "Accuracy Score of the model: 0.6625766871165644\n"
          ]
        }
      ]
    },
    {
      "cell_type": "markdown",
      "source": [
        "# K-Nearest Neighours"
      ],
      "metadata": {
        "id": "Xku-bv1bd6t6"
      }
    },
    {
      "cell_type": "code",
      "source": [
        "RANDOM_STATE = 1"
      ],
      "metadata": {
        "id": "MIJLhCDNN8Ug"
      },
      "execution_count": 22,
      "outputs": []
    },
    {
      "cell_type": "code",
      "source": [
        "data = pickle.load(open(\"/content/NITRRData.pkl\", \"rb\"))\n",
        "X = data[\"features\"]\n",
        "y = data[\"target\"]"
      ],
      "metadata": {
        "id": "ZRTjnhmyMGwC"
      },
      "execution_count": 23,
      "outputs": []
    },
    {
      "cell_type": "code",
      "source": [
        "X_train, X_test, y_train, y_test = train_test_split(X, y, test_size = 0.20, random_state = RANDOM_STATE)"
      ],
      "metadata": {
        "id": "dCLtzYmGNn_z"
      },
      "execution_count": 24,
      "outputs": []
    },
    {
      "cell_type": "code",
      "source": [
        "print(\"Training Feature Matrix shape:\", X_train.shape)\n",
        "print(\"Training Label Vector shape:\", y_train.shape)\n",
        "\n",
        "print(\"Testing Feature Matrix shape:\", X_test.shape)\n",
        "print(\"Testing Label Vector shape:\", y_test.shape)"
      ],
      "metadata": {
        "colab": {
          "base_uri": "https://localhost:8080/"
        },
        "id": "PnjRoWyJOAbd",
        "outputId": "9b75054a-a8d4-49f3-eb95-b05a141d4074"
      },
      "execution_count": 25,
      "outputs": [
        {
          "output_type": "stream",
          "name": "stdout",
          "text": [
            "Training Feature Matrix shape: (520, 5)\n",
            "Training Label Vector shape: (520,)\n",
            "Testing Feature Matrix shape: (130, 5)\n",
            "Testing Label Vector shape: (130,)\n"
          ]
        }
      ]
    },
    {
      "cell_type": "code",
      "source": [
        "knn_model = Pipeline([\n",
        "    (\"scale\", StandardScaler()),\n",
        "    (\"knn\", KNeighborsClassifier())\n",
        "    ])\n",
        "\n",
        "param_grid = {\"knn__n_neighbors\":[1, 2, 3, 4]}\n",
        "gscv = GridSearchCV(knn_model, param_grid = param_grid)\n",
        "gscv.fit(X_train, y_train)\n",
        "gscv.best_params_"
      ],
      "metadata": {
        "colab": {
          "base_uri": "https://localhost:8080/"
        },
        "id": "fCvHHLRcORMy",
        "outputId": "e8013bde-c668-47c9-dfa0-60b3b6585df8"
      },
      "execution_count": 26,
      "outputs": [
        {
          "output_type": "execute_result",
          "data": {
            "text/plain": [
              "{'knn__n_neighbors': 3}"
            ]
          },
          "metadata": {},
          "execution_count": 26
        }
      ]
    },
    {
      "cell_type": "code",
      "source": [
        "model = Pipeline([\n",
        "    (\"scale\", StandardScaler()),\n",
        "    (\"knn\", KNeighborsClassifier(n_neighbors = 3))\n",
        "    ])\n",
        "\n",
        "model.fit(X_train, y_train)\n"
      ],
      "metadata": {
        "colab": {
          "base_uri": "https://localhost:8080/"
        },
        "id": "KvBQTvRXQEtU",
        "outputId": "ff1a1467-f173-41da-a669-ea0396b2f9d4"
      },
      "execution_count": 27,
      "outputs": [
        {
          "output_type": "execute_result",
          "data": {
            "text/plain": [
              "Pipeline(steps=[('scale', StandardScaler()),\n",
              "                ('knn', KNeighborsClassifier(n_neighbors=3))])"
            ]
          },
          "metadata": {},
          "execution_count": 27
        }
      ]
    },
    {
      "cell_type": "code",
      "source": [
        "model.classes_"
      ],
      "metadata": {
        "colab": {
          "base_uri": "https://localhost:8080/"
        },
        "id": "oA2i6aC7WTjp",
        "outputId": "3c2e3711-6b50-460f-c5ad-c233982dc81b"
      },
      "execution_count": 28,
      "outputs": [
        {
          "output_type": "execute_result",
          "data": {
            "text/plain": [
              "array([0, 1])"
            ]
          },
          "metadata": {},
          "execution_count": 28
        }
      ]
    },
    {
      "cell_type": "code",
      "source": [
        "y_pred = model.predict(X_test)\n",
        "print(\"Accuracy Score of the model:\", accuracy_score(y_test, y_pred))"
      ],
      "metadata": {
        "colab": {
          "base_uri": "https://localhost:8080/"
        },
        "id": "o1Nfa9dEW8Fs",
        "outputId": "517b0d04-9f6f-4528-84e8-4133148c28e4"
      },
      "execution_count": 29,
      "outputs": [
        {
          "output_type": "stream",
          "name": "stdout",
          "text": [
            "Accuracy Score of the model: 0.9307692307692308\n"
          ]
        }
      ]
    },
    {
      "cell_type": "code",
      "source": [
        "plot_confusion_matrix(model, X_test, y_test)"
      ],
      "metadata": {
        "colab": {
          "base_uri": "https://localhost:8080/",
          "height": 300
        },
        "id": "vznOvu2CZNtX",
        "outputId": "fb379648-76a8-445f-de43-243f38f1833f"
      },
      "execution_count": 30,
      "outputs": [
        {
          "output_type": "execute_result",
          "data": {
            "text/plain": [
              "<sklearn.metrics._plot.confusion_matrix.ConfusionMatrixDisplay at 0x7f3cd6e92050>"
            ]
          },
          "metadata": {},
          "execution_count": 30
        },
        {
          "output_type": "display_data",
          "data": {
            "text/plain": [
              "<Figure size 432x288 with 2 Axes>"
            ],
            "image/png": "[encoded data removed]"
          },
          "metadata": {
            "needs_background": "light"
          }
        }
      ]
    },
    {
      "cell_type": "markdown",
      "source": [
        "# Decision Tree Classifier"
      ],
      "metadata": {
        "id": "MTsyJ54FqM3F"
      }
    },
    {
      "cell_type": "code",
      "execution_count": 31,
      "metadata": {
        "id": "1LgQRzFrXIph"
      },
      "outputs": [],
      "source": [
        "with open('/content/NITRRData.pkl','rb') as d:\n",
        "    data = pickle.load(d)"
      ]
    },
    {
      "cell_type": "code",
      "source": [
        "feature_matrix = data['features']\n",
        "df=pd.DataFrame(feature_matrix)"
      ],
      "metadata": {
        "id": "jsQEdErkXXgF"
      },
      "execution_count": 32,
      "outputs": []
    },
    {
      "cell_type": "code",
      "source": [
        "label_vector = data['target']\n",
        "df1 = pd.DataFrame(label_vector)\n",
        "\n",
        "target_df = df1"
      ],
      "metadata": {
        "id": "OWoy6IREXY39"
      },
      "execution_count": 33,
      "outputs": []
    },
    {
      "cell_type": "code",
      "source": [
        "X=df\n",
        "y=df1"
      ],
      "metadata": {
        "id": "4RkwVUJ8bp_F"
      },
      "execution_count": 34,
      "outputs": []
    },
    {
      "cell_type": "code",
      "source": [
        "X_train,X_test,y_train,y_test=train_test_split(X,y,test_size=0.2,random_state=0)"
      ],
      "metadata": {
        "id": "fx-lc1sPXYyt"
      },
      "execution_count": 35,
      "outputs": []
    },
    {
      "cell_type": "code",
      "source": [
        "params_dist={\n",
        "    \"criterion\":[\"gini\",\"entropy\"],\n",
        "    \"splitter\":[\"best\",\"random\"],\n",
        "    'max_depth':[x for x in range(1,13)]\n",
        "}\n",
        "\n",
        "clf = DecisionTreeClassifier(random_state=1)\n",
        "\n",
        "grid=GridSearchCV(clf,param_grid=params_dist,cv=10,n_jobs=-1)\n",
        "\n",
        "grid.fit(X_train,y_train)\n",
        "grid.best_params_"
      ],
      "metadata": {
        "colab": {
          "base_uri": "https://localhost:8080/"
        },
        "id": "HMvYXZS76Zt1",
        "outputId": "4cb769ae-acde-487e-eea6-2ef4e150cc25"
      },
      "execution_count": 36,
      "outputs": [
        {
          "output_type": "execute_result",
          "data": {
            "text/plain": [
              "{'criterion': 'entropy', 'max_depth': 8, 'splitter': 'best'}"
            ]
          },
          "metadata": {},
          "execution_count": 36
        }
      ]
    },
    {
      "cell_type": "code",
      "source": [
        "grid.best_score_"
      ],
      "metadata": {
        "colab": {
          "base_uri": "https://localhost:8080/"
        },
        "id": "P3B8IbgI7KiT",
        "outputId": "f08eaeb4-0f89-45dd-abbe-e78ce3365552"
      },
      "execution_count": 37,
      "outputs": [
        {
          "output_type": "execute_result",
          "data": {
            "text/plain": [
              "0.923076923076923"
            ]
          },
          "metadata": {},
          "execution_count": 37
        }
      ]
    },
    {
      "cell_type": "code",
      "source": [
        "NeedIrii_classifier= DecisionTreeClassifier(criterion = \"entropy\", max_depth=8,random_state=1)\n",
        "NeedIrii_classifier.fit(X_train,y_train)\n"
      ],
      "metadata": {
        "colab": {
          "base_uri": "https://localhost:8080/"
        },
        "id": "hCZlZBd_XYuN",
        "outputId": "9235f627-14b8-4542-bf2e-545c433e5796"
      },
      "execution_count": 38,
      "outputs": [
        {
          "output_type": "execute_result",
          "data": {
            "text/plain": [
              "DecisionTreeClassifier(criterion='entropy', max_depth=8, random_state=1)"
            ]
          },
          "metadata": {},
          "execution_count": 38
        }
      ]
    },
    {
      "cell_type": "code",
      "source": [
        "NeedIrii_classifier.score(X_test,y_test)\n"
      ],
      "metadata": {
        "colab": {
          "base_uri": "https://localhost:8080/"
        },
        "id": "Kf-Dj_FGjIph",
        "outputId": "12638bb9-53b7-4433-d6e7-9f1ad287b37f"
      },
      "execution_count": 39,
      "outputs": [
        {
          "output_type": "execute_result",
          "data": {
            "text/plain": [
              "0.9384615384615385"
            ]
          },
          "metadata": {},
          "execution_count": 39
        }
      ]
    },
    {
      "cell_type": "code",
      "source": [
        "y_pred=NeedIrii_classifier.predict(X_test)\n",
        "y_pred"
      ],
      "metadata": {
        "colab": {
          "base_uri": "https://localhost:8080/"
        },
        "id": "HJbKsUdYXYrt",
        "outputId": "8b318a27-af68-4c91-d99b-d958623812dc"
      },
      "execution_count": 40,
      "outputs": [
        {
          "output_type": "execute_result",
          "data": {
            "text/plain": [
              "array([0, 0, 0, 1, 1, 0, 0, 0, 0, 0, 0, 0, 0, 1, 0, 0, 0, 0, 0, 1, 0, 1,\n",
              "       0, 0, 1, 0, 1, 0, 0, 0, 0, 1, 1, 0, 0, 0, 0, 0, 1, 0, 0, 0, 0, 1,\n",
              "       0, 0, 1, 1, 1, 1, 0, 0, 0, 0, 0, 1, 0, 0, 0, 0, 0, 1, 0, 1, 1, 0,\n",
              "       0, 0, 1, 0, 1, 0, 1, 0, 1, 1, 0, 0, 0, 1, 1, 1, 1, 1, 1, 0, 0, 0,\n",
              "       1, 1, 1, 0, 0, 1, 0, 1, 0, 0, 1, 0, 0, 1, 1, 0, 1, 1, 1, 0, 0, 1,\n",
              "       1, 0, 0, 0, 0, 0, 1, 0, 1, 0, 1, 1, 1, 1, 0, 1, 1, 0, 1, 0])"
            ]
          },
          "metadata": {},
          "execution_count": 40
        }
      ]
    },
    {
      "cell_type": "code",
      "source": [
        "print(\"Accuracy Score of the model:\", accuracy_score(y_test,y_pred))"
      ],
      "metadata": {
        "colab": {
          "base_uri": "https://localhost:8080/"
        },
        "id": "QbR4KFNJXYpf",
        "outputId": "336005fc-41b4-4899-b679-0dae1859251b"
      },
      "execution_count": 41,
      "outputs": [
        {
          "output_type": "stream",
          "name": "stdout",
          "text": [
            "Accuracy Score of the model: 0.9384615384615385\n"
          ]
        }
      ]
    },
    {
      "cell_type": "code",
      "source": [
        "cf = confusion_matrix(y_test,y_pred)"
      ],
      "metadata": {
        "id": "7U8TKL6fh7zS"
      },
      "execution_count": 42,
      "outputs": []
    },
    {
      "cell_type": "code",
      "source": [
        "cm_display = ConfusionMatrixDisplay(confusion_matrix = cf, display_labels = [False, True])\n",
        "cm_display.plot()\n",
        "plt.show()"
      ],
      "metadata": {
        "colab": {
          "base_uri": "https://localhost:8080/",
          "height": 279
        },
        "id": "EMG9MFStmwoh",
        "outputId": "13bdeb6d-90a8-4a1d-9bc6-abcc6960bb67"
      },
      "execution_count": 43,
      "outputs": [
        {
          "output_type": "display_data",
          "data": {
            "text/plain": [
              "<Figure size 432x288 with 2 Axes>"
            ],
            "image/png": "[encoded data removed]"
          },
          "metadata": {
            "needs_background": "light"
          }
        }
      ]
    },
    {
      "cell_type": "markdown",
      "source": [
        "# Random Forest Classifier"
      ],
      "metadata": {
        "id": "hhB9WREMjLwj"
      }
    },
    {
      "cell_type": "code",
      "source": [
        "data = pickle.load(open(\"/content/NITRRData.pkl\", \"rb\"))\n",
        "X = data[\"features\"]\n",
        "y = data[\"target\"]"
      ],
      "metadata": {
        "id": "vZmhOWAKjNl1"
      },
      "execution_count": 44,
      "outputs": []
    },
    {
      "cell_type": "code",
      "source": [
        "X_train, X_test, y_train, y_test = train_test_split(X, y, test_size = 0.20, random_state = RANDOM_STATE)"
      ],
      "metadata": {
        "id": "vq5Eg3sFjd2_"
      },
      "execution_count": 45,
      "outputs": []
    },
    {
      "cell_type": "code",
      "source": [
        "print(\"Training Feature Matrix shape:\", X_train.shape)\n",
        "print(\"Training Label Vector shape:\", y_train.shape)\n",
        "\n",
        "print(\"Testing Feature Matrix shape:\", X_test.shape)\n",
        "print(\"Testing Label Vector shape:\", y_test.shape)"
      ],
      "metadata": {
        "colab": {
          "base_uri": "https://localhost:8080/"
        },
        "id": "W7lNYuHgjfhq",
        "outputId": "44850ff3-cd55-4b85-8e24-eb6c0cfdfa9e"
      },
      "execution_count": 46,
      "outputs": [
        {
          "output_type": "stream",
          "name": "stdout",
          "text": [
            "Training Feature Matrix shape: (520, 5)\n",
            "Training Label Vector shape: (520,)\n",
            "Testing Feature Matrix shape: (130, 5)\n",
            "Testing Label Vector shape: (130,)\n"
          ]
        }
      ]
    },
    {
      "cell_type": "code",
      "source": [
        "rf_model = Pipeline([\n",
        "    (\"scale\", StandardScaler()),\n",
        "    (\"rf\", RandomForestClassifier(max_depth = 1000))\n",
        "    ])\n",
        "\n",
        "param_grid = {\"rf__criterion\":[\"gini\", \"entropy\", \"log_loss\"]}\n",
        "gscv = GridSearchCV(rf_model, param_grid = param_grid)\n",
        "gscv.fit(X_train, y_train)\n",
        "gscv.best_params_"
      ],
      "metadata": {
        "colab": {
          "base_uri": "https://localhost:8080/"
        },
        "id": "8pPn5e0ojhqn",
        "outputId": "1fe84844-ff13-4254-d9c8-f391bd219bd3"
      },
      "execution_count": 47,
      "outputs": [
        {
          "output_type": "execute_result",
          "data": {
            "text/plain": [
              "{'rf__criterion': 'gini'}"
            ]
          },
          "metadata": {},
          "execution_count": 47
        }
      ]
    },
    {
      "cell_type": "code",
      "source": [
        "model = Pipeline([\n",
        "    (\"scale\", StandardScaler()),\n",
        "    (\"rf\", RandomForestClassifier(max_depth = 1000, criterion = \"gini\"))\n",
        "    ])\n",
        "model.fit(X_train, y_train)"
      ],
      "metadata": {
        "colab": {
          "base_uri": "https://localhost:8080/"
        },
        "id": "ijcTiFu1j6Gr",
        "outputId": "03973f87-6cd8-4158-dd11-1bab29e0d2f6"
      },
      "execution_count": 48,
      "outputs": [
        {
          "output_type": "execute_result",
          "data": {
            "text/plain": [
              "Pipeline(steps=[('scale', StandardScaler()),\n",
              "                ('rf', RandomForestClassifier(max_depth=1000))])"
            ]
          },
          "metadata": {},
          "execution_count": 48
        }
      ]
    },
    {
      "cell_type": "code",
      "source": [
        "y_pred = model.predict(X_test)\n",
        "print(\"Accuracy Score of the model:\", accuracy_score(y_test, y_pred))"
      ],
      "metadata": {
        "colab": {
          "base_uri": "https://localhost:8080/"
        },
        "id": "6cFqgSPEkXA7",
        "outputId": "ae7dc037-dedd-46fa-c7f1-b1bb2f491b49"
      },
      "execution_count": 49,
      "outputs": [
        {
          "output_type": "stream",
          "name": "stdout",
          "text": [
            "Accuracy Score of the model: 0.9461538461538461\n"
          ]
        }
      ]
    },
    {
      "cell_type": "markdown",
      "source": [
        "# Adaboost Classifier"
      ],
      "metadata": {
        "id": "lgDIKFbLs47-"
      }
    },
    {
      "cell_type": "code",
      "execution_count": 50,
      "metadata": {
        "id": "46471552"
      },
      "outputs": [],
      "source": [
        "with open (\"NITRRData.pkl\", \"rb\") as f:\n",
        "    data=pickle.load(f)"
      ]
    },
    {
      "cell_type": "code",
      "execution_count": 51,
      "metadata": {
        "id": "a2717e5d"
      },
      "outputs": [],
      "source": [
        "x = data[\"features\"]\n",
        "y = data[\"target\"]"
      ]
    },
    {
      "cell_type": "code",
      "execution_count": 52,
      "metadata": {
        "id": "48f02636"
      },
      "outputs": [],
      "source": [
        "x_train, x_test, y_train, y_test = train_test_split(x, y, test_size = 0.30, random_state = 1)\n",
        "x_train= x_train\n",
        "x_test = x_test"
      ]
    },
    {
      "cell_type": "code",
      "execution_count": 53,
      "metadata": {
        "id": "490acba1",
        "outputId": "80a22108-379e-41c7-ff09-cf3ea44043ca",
        "colab": {
          "base_uri": "https://localhost:8080/"
        }
      },
      "outputs": [
        {
          "output_type": "execute_result",
          "data": {
            "text/plain": [
              "{'abc__base_estimator': RandomForestClassifier(max_depth=1000),\n",
              " 'abc__learning_rate': 0.1}"
            ]
          },
          "metadata": {},
          "execution_count": 53
        }
      ],
      "source": [
        "\n",
        "svc = SVC(probability=True, random_state = 1)\n",
        "dtc = DecisionTreeClassifier(max_depth=8,random_state=0)\n",
        "rfc = RandomForestClassifier(max_depth = 1000, criterion = \"gini\")\n",
        "\n",
        "abc_model = Pipeline([\n",
        "    (\"scale\", StandardScaler()),\n",
        "    (\"abc\", AdaBoostClassifier(n_estimators=100))\n",
        "])\n",
        "\n",
        "param_grid = {\"abc__base_estimator\": [dtc, rfc, svc], \n",
        "              \"abc__learning_rate\": [1, 0.1, 0.01, 0.5, 0.05]\n",
        "}\n",
        "\n",
        "gscv = GridSearchCV(abc_model, param_grid = param_grid)\n",
        "gscv.fit(x_train, y_train)\n",
        "gscv.best_params_"
      ]
    },
    {
      "cell_type": "code",
      "source": [
        "model = Pipeline([\n",
        "    (\"scale\", StandardScaler()),\n",
        "    (\"abc\", AdaBoostClassifier(n_estimators=100, base_estimator = rfc, learning_rate = 0.01))\n",
        "])\n",
        "model.fit(x_train, y_train.values.ravel())\n",
        "\n",
        "y_pred = model.predict(x_test)\n",
        "\n",
        "\n",
        "print(\"Accuracy of the model:\", accuracy_score(y_test, y_pred))"
      ],
      "metadata": {
        "colab": {
          "base_uri": "https://localhost:8080/"
        },
        "id": "WNdvwU8turWq",
        "outputId": "d77eff79-a857-4283-ce02-95c38159a8d7"
      },
      "execution_count": 54,
      "outputs": [
        {
          "output_type": "stream",
          "name": "stdout",
          "text": [
            "Accuracy of the model: 0.9179487179487179\n"
          ]
        }
      ]
    },
    {
      "cell_type": "code",
      "execution_count": 55,
      "metadata": {
        "id": "88fb20e8",
        "outputId": "174f6a9a-cae3-42c7-8017-b58803a8c113",
        "colab": {
          "base_uri": "https://localhost:8080/",
          "height": 296
        }
      },
      "outputs": [
        {
          "output_type": "execute_result",
          "data": {
            "text/plain": [
              "<sklearn.metrics._plot.confusion_matrix.ConfusionMatrixDisplay at 0x7f3cd5b3eb50>"
            ]
          },
          "metadata": {},
          "execution_count": 55
        },
        {
          "output_type": "display_data",
          "data": {
            "text/plain": [
              "<Figure size 432x288 with 2 Axes>"
            ],
            "image/png": "[encoded data removed]"
          },
          "metadata": {
            "needs_background": "light"
          }
        }
      ],
      "source": [
        "plot_confusion_matrix(model, x_test, y_test.values.ravel())"
      ]
    }
  ]
}